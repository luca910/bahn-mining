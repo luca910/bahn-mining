{
 "cells": [
  {
   "cell_type": "markdown",
   "metadata": {},
   "source": [
    "# Kapitel: Grafikfunktionen"
   ]
  },
  {
   "cell_type": "markdown",
   "metadata": {},
   "source": [
    "### Funktion: plot_bar_chart\n",
    "\n",
    "Die Funktion `plot_bar_chart` erstellt ein anpassbares Balkendiagramm zur Visualisierung von Daten, wie zum Beispiel der prozentualen Verspätungsstatistik für verschiedene Zugkategorien. Sie ermöglicht eine flexible Anpassung des Diagrammtitels, der Achsenbeschriftungen und der Balkenfarben. Die Funktion kann auch optional Einträge mit einem Wert von 0 aus dem Diagramm ausschließen.\n",
    "\n",
    "#### Parameter:\n",
    "- **data (pd.DataFrame)**: Ein DataFrame, das die darzustellenden Daten enthält. Die Daten sollten mindestens zwei Spalten für die x- und y-Werte des Diagramms umfassen.\n",
    "- **x_column (str, optional)**: Der Name der Spalte im DataFrame, die die Kategorien für die x-Achse enthält. Falls kein Wert angegeben wird, wird standardmäßig `'X'` verwendet.\n",
    "- **y_column (str, optional)**: Der Name der Spalte im DataFrame, die die Werte für die y-Achse enthält. Falls kein Wert angegeben wird, wird standardmäßig `'Y'` verwendet.\n",
    "- **title (str)**: Der Titel des Diagramms, der oben angezeigt wird.\n",
    "- **x_axis_label (str)**: Die Bezeichnung der x-Achse.\n",
    "- **y_axis_label (str)**: Die Bezeichnung der y-Achse.\n",
    "- **bar_color (str)**: Die Farbe der Balken, die angezeigt werden soll (z. B. `'skyblue'`).\n",
    "- **exclude_zeros (bool)**: Ein boolescher Wert, der festlegt, ob Einträge mit einem y-Wert von 0 aus dem Diagramm ausgeschlossen werden sollen. Standardmäßig ist dieser Wert `False`.\n",
    "\n",
    "#### Rückgabewert:\n",
    "Die Funktion gibt keinen Rückgabewert zurück, sondern zeigt das Balkendiagramm an.\n",
    "\n",
    "#### Funktionsweise:\n",
    "1. Überprüft, ob Spaltennamen für die x- und y-Werte übergeben wurden, und verwendet andernfalls die Standardwerte `'X'` und `'Y'`.\n",
    "2. Filtert die Daten bei Bedarf, um Einträge mit einem y-Wert von 0 auszuschließen (wenn `exclude_zeros=True`).\n",
    "3. Erstellt ein Balkendiagramm mit den Kategorien auf der x-Achse und den entsprechenden Werten auf der y-Achse.\n",
    "4. Zeigt die Werte oberhalb jedes Balkens an und positioniert sie in einem Abstand von 3 % des maximalen y-Wertes über den Balken, um die Ablesbarkeit zu verbessern.\n",
    "5. Setzt die y-Achse 10 % höher als den maximalen y-Wert, damit alle Beschriftungen vollständig sichtbar sind.\n"
   ]
  },
  {
   "cell_type": "code",
   "execution_count": 1,
   "metadata": {},
   "outputs": [],
   "source": [
    "import matplotlib.pyplot as plt\n",
    "import seaborn as sns\n",
    "\n",
    "def plot_bar_chart(data, x_column=None, y_column=None, title='', x_axis_label='', y_axis_label='', \n",
    "                   bar_color='skyblue', y_limit_factor=1.1, text_offset_factor=0.03, \n",
    "                   show_values=True, exclude_zeros=True):\n",
    "    \"\"\"\n",
    "    Diese Funktion erstellt ein Balkendiagramm mit anpassbaren Parametern wie Titel, Achsenbezeichner, Farben und Y-Achsen-Limit.\n",
    "    \n",
    "    Parameters:\n",
    "    - data: DataFrame oder Dictionary mit den Daten für das Diagramm.\n",
    "    - x_column: Name der Spalte für die x-Achse (Kategorien). Standardwert: 'X', falls nicht angegeben.\n",
    "    - y_column: Name der Spalte für die y-Achse (Werte). Standardwert: 'Y', falls nicht angegeben.\n",
    "    - title: Titel des Diagramms.\n",
    "    - x_axis_label: Bezeichnung der x-Achse.\n",
    "    - y_axis_label: Bezeichnung der y-Achse.\n",
    "    - bar_color: Farbe der Balken (Standard: 'skyblue').\n",
    "    - y_limit_factor: Faktor für die Y-Achsen-Limit (Standard: 1.1, um 10% oberhalb des Maximalwerts zu setzen).\n",
    "    - text_offset_factor: Faktor zur Berechnung des Abstands für die Textanzeige (Standard: 3% über dem Balken).\n",
    "    - show_values: Boolean, ob die Werte über den Balken angezeigt werden sollen (Standard: True).\n",
    "    - exclude_zeros: Boolean, ob 0-Werte im Diagramm ausgeschlossen werden sollen (Standard: True).\n",
    "    \"\"\"\n",
    "    \n",
    "    # Setze Standardwerte für x_column und y_column, wenn sie nicht angegeben wurden\n",
    "    if x_column is None:\n",
    "        x_column = 'X'\n",
    "    if y_column is None:\n",
    "        y_column = 'Y'\n",
    "    \n",
    "    # Überprüfen, ob die erforderlichen Spalten vorhanden sind\n",
    "    if not all(col in data.columns for col in [x_column, y_column]):\n",
    "        raise ValueError(f\"Die Eingabedaten müssen die Spalten '{x_column}' und '{y_column}' enthalten.\")\n",
    "    \n",
    "    # Falls exclude_zeros True ist, alle Zeilen mit 0 im y_column entfernen\n",
    "    if exclude_zeros:\n",
    "        data = data[data[y_column] > 0]\n",
    "    \n",
    "    # Maximalwert berechnen und mit y_limit_factor multiplizieren\n",
    "    y_limit = max(data[y_column]) * y_limit_factor\n",
    "    \n",
    "    # Balkendiagramm erstellen\n",
    "    plt.figure(figsize=(8, 6))\n",
    "    ax = sns.barplot(x=x_column, y=y_column, data=data, color=bar_color)\n",
    "    \n",
    "    # Titel und Achsenbeschriftungen\n",
    "    plt.title(title)\n",
    "    plt.xlabel(x_axis_label)\n",
    "    plt.ylabel(y_axis_label)\n",
    "    \n",
    "    # Berechnung des Textversatzes basierend auf dem höchsten Wert\n",
    "    max_value = max(data[y_column])\n",
    "    text_offset = max_value * text_offset_factor  # 3% des maximalen Werts\n",
    "    \n",
    "    # Werte über den Balken anzeigen, wenn show_values True ist\n",
    "    if show_values:\n",
    "        for bar in ax.patches:\n",
    "            yval = bar.get_height()\n",
    "            plt.text(bar.get_x() + bar.get_width() / 2, yval + text_offset, f\"{yval:.1f}\", ha='center', va='bottom')\n",
    "\n",
    "    # Y-Achse auf y_limit setzen\n",
    "    plt.ylim(0, y_limit)\n",
    "    \n",
    "    plt.show()"
   ]
  },
  {
   "cell_type": "markdown",
   "metadata": {},
   "source": [
    "# Kapitel: Berechne Anzeigewerte"
   ]
  },
  {
   "cell_type": "markdown",
   "metadata": {},
   "source": [
    "### Funktion: calculate_average_min_delay\n",
    "\n",
    "Die `calculate_average_min_delay`-Funktion berechnet die durchschnittliche Verspätung pro Zugart aus einer CSV-Datei, die Verspätungsdaten enthält.\n",
    "\n",
    "#### Parameter:\n",
    "- **file_path**: Der Pfad zur CSV-Datei, die die Daten zur Verspätung enthält. Die Datei sollte zwei Spalten haben: `'Zugart'` und `'Verspätung in Minuten'`.\n",
    "- **include_zero_delay** *(optional)*: Ein boolescher Parameter, der festlegt, ob Zugarten, deren durchschnittliche Verspätung Null Minuten beträgt, in die Berechnung einbezogen werden sollen. Wenn `True`, werden auch Einträge mit `0` Minuten Verspätung berücksichtigt. Standardwert ist `True`.\n",
    "\n",
    "#### Rückgabewert:\n",
    "Die Funktion gibt ein DataFrame mit zwei Spalten zurück:\n",
    "- **Zugart**: Die Art des Zuges (z.B. ICE, RE).\n",
    "- **Durchschnittliche Verspätung (Minuten)**: Die durchschnittliche Verspätung der jeweiligen Zugart in Minuten.\n",
    "\n",
    "#### Funktionsweise:\n",
    "1. Prüft, ob die Datei existiert. Falls nicht, wird ein `FileNotFoundError` ausgelöst.\n",
    "2. Liest die CSV-Datei ohne Header ein und benennt die Spalten in `'Zugart'` und `'Verspätung in Minuten'`.\n",
    "3. Berechnet die durchschnittliche Verspätung pro Zugart für Einträge mit mehr als 0 Minuten Verspätung.\n",
    "4. Ergänzt die Anzahl der Vorkommen jeder Zugart und füllt fehlende Durchschnittswerte mit `0`.\n",
    "5. Falls `include_zero_delay` auf `False` gesetzt ist, werden Zugarten mit einer durchschnittlichen Verspätung von `0` aus dem Ergebnis entfernt.\n"
   ]
  },
  {
   "cell_type": "code",
   "execution_count": 2,
   "metadata": {},
   "outputs": [],
   "source": [
    "import pandas as pd\n",
    "import os\n",
    "\n",
    "def calculate_average_min_delay(file_path):\n",
    "    # Überprüfen, ob der Dateipfad gültig ist\n",
    "    if not os.path.exists(file_path):\n",
    "        raise FileNotFoundError(f\"Die Datei wurde nicht gefunden: {file_path}\")\n",
    "    \n",
    "    # CSV-Datei einlesen, ohne Header\n",
    "    df = pd.read_csv(file_path, header=None, names=['Zugart', 'Verspätung in Minuten'])\n",
    "    \n",
    "    # Durchschnittliche Verspätung pro Zugart berechnen (nur für Verspätungen > 0)\n",
    "    avg_delay = df[df['Verspätung in Minuten'] > 0].groupby('Zugart')['Verspätung in Minuten'].mean().reset_index()\n",
    "    \n",
    "    # Spaltennamen anpassen\n",
    "    avg_delay.columns = ['Zugart', 'Durchschnittliche Verspätung (Minuten)']\n",
    "    \n",
    "    # Alle Zugarten im ursprünglichen DataFrame beibehalten\n",
    "    all_delays = df.groupby('Zugart')['Verspätung in Minuten'].count().reset_index()\n",
    "    all_delays.columns = ['Zugart', 'Anzahl']\n",
    "\n",
    "    # Zusammenführen der Durchschnittswerte mit der Anzahl\n",
    "    result = pd.merge(all_delays, avg_delay, on='Zugart', how='left')\n",
    "\n",
    "    # Füllen der fehlenden Durchschnittswerte mit 0\n",
    "    result['Durchschnittliche Verspätung (Minuten)'] = result['Durchschnittliche Verspätung (Minuten)'].fillna(0)\n",
    "\n",
    "    return result[['Zugart', 'Durchschnittliche Verspätung (Minuten)']]"
   ]
  },
  {
   "cell_type": "markdown",
   "metadata": {},
   "source": [
    "### Funktion: calculate_average_percentage_delay\n",
    "\n",
    "Die `calculate_average_percentage_delay`-Funktion berechnet den prozentualen Anteil verspäteter Züge pro Zugart aus einer CSV-Datei, die Verspätungsdaten enthält.\n",
    "\n",
    "#### Parameter:\n",
    "- **file_path**: Der Pfad zur CSV-Datei, die die Daten zur Verspätung enthält. Die Datei sollte zwei Spalten haben: `'Zugart'` und `'Verspätung (Minuten)'`, wobei die erste Zeile keinen Header enthält.\n",
    "  \n",
    "#### Rückgabewert:\n",
    "Die Funktion gibt ein DataFrame mit zwei Spalten zurück:\n",
    "- **Zugart**: Die Art des Zuges (z.B. ICE, IC, RE, S-Bahn).\n",
    "- **Verspätet (%)**: Der prozentuale Anteil der verspäteten Züge der jeweiligen Zugart, basierend auf den Einträgen mit mehr als 0 Minuten Verspätung.\n",
    "\n",
    "#### Funktionsweise:\n",
    "1. Prüft, ob die Datei existiert. Falls nicht, wird ein `FileNotFoundError` ausgelöst.\n",
    "2. Liest die CSV-Datei ohne Header ein und benennt die Spalten in `'Zugart'` und `'Verspätung (Minuten)'`.\n",
    "3. Berechnet die Anzahl der verspäteten Züge und die Gesamtanzahl der Züge pro Zugart.\n",
    "4. Ermittelt den prozentualen Anteil verspäteter Züge für jede Zugart.\n",
    "5. Gibt ein DataFrame mit den Zugarten und dem entsprechenden Verspätungsanteil zurück.\n"
   ]
  },
  {
   "cell_type": "code",
   "execution_count": 3,
   "metadata": {},
   "outputs": [],
   "source": [
    "import pandas as pd\n",
    "\n",
    "def calculate_average_percentage_delay(file_path):\n",
    "    # CSV-Datei einlesen ohne Header\n",
    "    df = pd.read_csv(file_path, header=None, names=['Zugart', 'Verspätung (Minuten)'])\n",
    "    \n",
    "    # Zähle die Gesamtzahl der Züge pro Zugart und die Anzahl der verspäteten Züge\n",
    "    total_counts = df['Zugart'].value_counts()\n",
    "    delayed_counts = df[df['Verspätung (Minuten)'] > 0]['Zugart'].value_counts()\n",
    "    \n",
    "    # Berechnung des prozentualen Anteils verspäteter Züge\n",
    "    delay_percentage = (delayed_counts / total_counts * 100).fillna(0).reset_index()\n",
    "    delay_percentage.columns = ['Zugart', 'Verspätet (%)']\n",
    "    \n",
    "    return delay_percentage"
   ]
  },
  {
   "cell_type": "markdown",
   "metadata": {},
   "source": [
    "### Funktion: delay_statistics_by_train_type\n",
    "\n",
    "Die Funktion `delay_statistics_by_train_type` berechnet die prozentuale Verspätungsstatistik für eine spezifische Zugart in verschiedenen Zeitkategorien.\n",
    "\n",
    "#### Parameter:\n",
    "- **file_path (str)**: Der Pfad zur CSV-Datei, die die Verspätungsdaten enthält. Die Datei sollte die Spalten `'Zugart'` und `'Verspätung in Minuten'` enthalten.\n",
    "- **train_type (str)**: Das Kürzel der Zugart, für die die Verspätungsstatistik berechnet werden soll (z. B. `'ICE'`).\n",
    "\n",
    "#### Rückgabewert:\n",
    "Die Funktion gibt ein Dictionary mit den Verspätungskategorien und den jeweiligen prozentualen Anteilen zurück. Wenn die Zugart nicht vorhanden ist oder keine verspäteten Einträge existieren, wird eine entsprechende Meldung ausgegeben.\n",
    "\n",
    "#### Funktionsweise:\n",
    "1. Überprüft, ob die Datei existiert und liest die CSV-Daten ein.\n",
    "2. Filtert die Daten, um nur die Einträge der gewählten Zugart zu behalten.\n",
    "3. Prüft, ob es verspätete Züge dieser Zugart gibt:\n",
    "4. Falls keine Einträge oder keine Verspätungen vorhanden sind, wird eine Meldung zurückgegeben.\n",
    "5. Berechnet die prozentualen Anteile verspäteter Züge in den Kategorien < 10 min, < 30 min, < 60 min, < 120 min und > 120 min.\n",
    "6. Gibt das Dictionary mit den Verspätungskategorien und den zugehörigen Prozentwerten zurück."
   ]
  },
  {
   "cell_type": "code",
   "execution_count": 4,
   "metadata": {},
   "outputs": [],
   "source": [
    "import pandas as pd\n",
    "\n",
    "def delay_statistics_by_train_type(file_path, train_type):\n",
    "    # CSV-Datei einlesen\n",
    "    df = pd.read_csv(file_path, header=None, names=['Zugart', 'Verspätung (Minuten)'])\n",
    "    \n",
    "    # Filtere die Daten für die angegebene Zugart\n",
    "    df_filtered = df[df['Zugart'] == train_type]\n",
    "    \n",
    "    # Überprüfen, ob die Zugart vorhanden ist\n",
    "    if df_filtered.empty:\n",
    "        print(f\"Zugart '{train_type}' ist in den Daten nicht vorhanden.\")\n",
    "        return None\n",
    "\n",
    "    # Filtere auf verspätete Züge (> 0 Minuten)\n",
    "    df_delayed = df_filtered[df_filtered['Verspätung (Minuten)'] > 0]\n",
    "    \n",
    "    # Überprüfen, ob die Zugart überhaupt Verspätungen hat\n",
    "    if df_delayed.empty:\n",
    "        print(f\"Zugart '{train_type}' weist keine verspäteten Züge auf.\")\n",
    "        return None\n",
    "\n",
    "    # Gesamtanzahl der verspäteten Züge der angegebenen Zugart\n",
    "    total_delays = len(df_delayed)\n",
    "    \n",
    "    # Berechnung des prozentualen Anteils in jeder Kategorie\n",
    "    delay_stats = {\n",
    "        '< 10 min': (df_delayed['Verspätung (Minuten)'] < 10).sum() / total_delays * 100,\n",
    "        '< 30 min': ((df_delayed['Verspätung (Minuten)'] >= 10) & (df_delayed['Verspätung (Minuten)'] < 30)).sum() / total_delays * 100,\n",
    "        '< 60 min': ((df_delayed['Verspätung (Minuten)'] >= 30) & (df_delayed['Verspätung (Minuten)'] < 60)).sum() / total_delays * 100,\n",
    "        '< 120 min': ((df_delayed['Verspätung (Minuten)'] >= 60) & (df_delayed['Verspätung (Minuten)'] < 120)).sum() / total_delays * 100,\n",
    "        '> 120 min': (df_delayed['Verspätung (Minuten)'] >= 120).sum() / total_delays * 100\n",
    "    }\n",
    "    \n",
    "    return delay_stats"
   ]
  },
  {
   "cell_type": "markdown",
   "metadata": {},
   "source": [
    "# Tests"
   ]
  },
  {
   "cell_type": "code",
   "execution_count": 5,
   "metadata": {},
   "outputs": [],
   "source": [
    "import pandas as pd\n",
    "\n",
    "def load_csv_as_data(file_path):\n",
    "    \"\"\"\n",
    "    Lädt eine CSV-Datei und gibt sie als DataFrame zurück.\n",
    "    Alle Zeilen mit einem negativen 'arrival_delay' erhalten den Wert 0.\n",
    "    \n",
    "    :param file_path: Der Pfad zur CSV-Datei, die geladen werden soll.\n",
    "    :return: DataFrame mit den gefilterten und angepassten Daten.\n",
    "    \"\"\"\n",
    "    try:\n",
    "        # CSV-Datei einlesen, unter der Annahme, dass die Spalten durch Semikolon getrennt sind\n",
    "        df = pd.read_csv(file_path, sep=\";\", header=0)\n",
    "        \n",
    "        # Setze alle 'arrival_delay' Werte kleiner als 0 auf 0\n",
    "        df['arrival_delay'] = df['arrival_delay'].apply(lambda x: max(x, 0))\n",
    "    \n",
    "    except FileNotFoundError:\n",
    "        raise ValueError(f\"Die Datei unter dem Pfad {file_path} wurde nicht gefunden.\")\n",
    "    except pd.errors.EmptyDataError:\n",
    "        raise ValueError(\"Die CSV-Datei ist leer.\")\n",
    "    except KeyError:\n",
    "        raise ValueError(\"Die CSV-Datei enthält keine Spalte 'arrival_delay'.\")\n",
    "    except Exception as e:\n",
    "        raise ValueError(f\"Fehler beim Einlesen der Datei: {e}\")\n",
    "    \n",
    "    return df"
   ]
  },
  {
   "cell_type": "code",
   "execution_count": 6,
   "metadata": {},
   "outputs": [],
   "source": [
    "import pandas as pd\n",
    "\n",
    "def filter_data(data, eva=None, mode=\"min\", date=None, week_number=None, delay_threshold=None):\n",
    "    \"\"\"\n",
    "    Filtert die Daten basierend auf den gegebenen Parametern.\n",
    "    \n",
    "    :param data: DataFrame mit den zugrunde liegenden Daten.\n",
    "    :param eva: Die EVN-Nummer des Bahnhofs, nach dem gefiltert werden soll (Optional).\n",
    "    :param mode: Modus für die Verspätungsberechnung, entweder 'min' oder '%'.\n",
    "    :param date: Das Datum, nach dem gefiltert werden soll (Optional, im Format 'YYYY-MM-DD').\n",
    "    :param week_number: Die Kalenderwoche, nach der gefiltert werden soll (Optional).\n",
    "    :param delay_threshold: Verspätung, ab der Züge berücksichtigt werden sollen (Optional).\n",
    "    :return: Gefilterte Daten, die an die jeweilige Berechnungsfunktion übergeben werden können.\n",
    "    \"\"\"\n",
    "    \n",
    "    # Überprüfen, ob die Daten vorhanden sind\n",
    "    if data.empty:\n",
    "        print(\"Es sind keine Daten vorhanden.\")\n",
    "        return None\n",
    "    \n",
    "    # Stelle sicher, dass die EVA-Spalte als String behandelt wird\n",
    "    data['eva'] = data['eva'].astype(str)\n",
    "    \n",
    "    # Wenn eva = '00000000', berücksichtige alle\n",
    "    if eva != '00000000' and eva is not None:\n",
    "        if eva not in data['eva'].values:\n",
    "            print(f\"Es gibt keinen Bahnhof mit der EVA {eva}.\")\n",
    "            return None\n",
    "        data = data[data['eva'] == eva]\n",
    "    \n",
    "    # Wenn ein Datum angegeben ist, nach Jahr, Monat und Tag filtern\n",
    "    if date:\n",
    "        data['date'] = pd.to_datetime(data['plannedArrival']).dt.date\n",
    "        data = data[data['date'] == pd.to_datetime(date).date()]\n",
    "    \n",
    "    # Wenn eine Kalenderwoche angegeben ist, nach dieser filtern\n",
    "    if week_number:\n",
    "        if date:\n",
    "            print(\"Tag und Kalenderwoche können nicht gleichzeitig ausgewählt werden.\")\n",
    "            return None\n",
    "        data['week_number'] = pd.to_datetime(data['plannedArrival']).dt.isocalendar().week\n",
    "        data = data[data['week_number'] == week_number]\n",
    "    \n",
    "    # Wenn Verspätungsfilter angegeben ist, nur Züge mit Verspätung größer als der Schwellenwert\n",
    "    #if delay_threshold is not None:\n",
    "    #    data = data[data['arrival_delay'] >= delay_threshold]\n",
    "    if delay_threshold is None:\n",
    "        delay_threshold = 0\n",
    "    \n",
    "    # Überprüfen, ob der Modus gültig ist\n",
    "    if mode not in ['min', '%']:\n",
    "        print(\"Der Modus muss entweder 'min' oder '%' sein.\")\n",
    "        return None\n",
    "    \n",
    "    # Wenn alle Filter erfolgreich angewendet wurden, rufe die passende Funktion auf\n",
    "    if mode == '%':\n",
    "        return calculate_percentage_delay(data, delay_threshold)\n",
    "    elif mode == 'min':\n",
    "        return calculate_average_delay(data)\n",
    "\n",
    "    return data"
   ]
  },
  {
   "cell_type": "code",
   "execution_count": 7,
   "metadata": {},
   "outputs": [],
   "source": [
    "def calculate_average_delay(data):\n",
    "    \"\"\"\n",
    "    Berechnet die durchschnittliche Verspätung in Minuten.\n",
    "    \n",
    "    :param data: Gefilterte Daten, auf die die Berechnung angewendet werden soll.\n",
    "    :return: Durchschnittliche Verspätung in Minuten, die die Verspätung von Zügen mit mehr als 0 Minuten berücksichtigt.\n",
    "    \"\"\"\n",
    "    \n",
    "    if data.empty:\n",
    "        print(\"Keine Daten für die Berechnung der Verspätung vorhanden.\")\n",
    "        return None\n",
    "    \n",
    "    # Nur Züge mit einer positiven Verspätung berücksichtigen\n",
    "    delayed_data = data[data['arrival_delay'] > 0]\n",
    "    \n",
    "    if delayed_data.empty:\n",
    "        print(\"Keine Züge mit Verspätung gefunden.\")\n",
    "        return None\n",
    "    \n",
    "    # Berechne die durchschnittliche Verspätung\n",
    "    average_delay = delayed_data['arrival_delay'].mean()\n",
    "    \n",
    "    return average_delay\n"
   ]
  },
  {
   "cell_type": "code",
   "execution_count": 8,
   "metadata": {},
   "outputs": [],
   "source": [
    "def calculate_percentage_delay(data, delay_threshold):\n",
    "    \"\"\"\n",
    "    Berechnet den Prozentsatz der verspäteten Züge je Zugart.\n",
    "    \n",
    "    :param data: DataFrame mit den zugrunde liegenden Daten.\n",
    "    :return: DataFrame mit der Zugkategorie und dem Prozentsatz der verspäteten Züge.\n",
    "    \"\"\"\n",
    "    # Züge filtern, die mehr als 0 Minuten Verspätung haben\n",
    "    delayed_trains = data[data['arrival_delay'] > delay_threshold]\n",
    "    \n",
    "    # Züge nach Zugart gruppieren\n",
    "    total_trains_by_category = data.groupby('trainCategory').size()\n",
    "    delayed_trains_by_category = delayed_trains.groupby('trainCategory').size()\n",
    "    \n",
    "    # Berechnung des Prozentsatzes der verspäteten Züge pro Zugart\n",
    "    percentage_delay = (delayed_trains_by_category / total_trains_by_category) * 100\n",
    "    \n",
    "    # Ergebnis in DataFrame umwandeln\n",
    "    result = percentage_delay.reset_index(name='Y')\n",
    "    result['X'] = result['trainCategory']\n",
    "    \n",
    "    # Die Spalten umbenennen und das Format runden\n",
    "    result = result[['X', 'Y']]\n",
    "    result['Y'] = result['Y'].round(2)\n",
    "    \n",
    "    return result"
   ]
  },
  {
   "cell_type": "code",
   "execution_count": null,
   "metadata": {},
   "outputs": [
    {
     "name": "stdout",
     "output_type": "stream",
     "text": [
      "      X       Y\n",
      "0   ECE   75.00\n",
      "1   HLB   89.09\n",
      "2    IC   86.49\n",
      "3   ICE   70.22\n",
      "4     N   93.10\n",
      "5    NJ  100.00\n",
      "6    RB   72.32\n",
      "7    RE   78.61\n",
      "8     S   75.00\n",
      "9   TGV     NaN\n",
      "10  VIA   82.19\n"
     ]
    }
   ],
   "source": [
    "# Daten laden (z.B. aus CSV)\n",
    "data = load_csv_as_data(\"sql/csv/ar-superquery.csv\")\n",
    "\n",
    "# Beispiel: Berechne Prozentsatz der verspäteten Züge für den Bahnhof mit EVA \"8000105\"\n",
    "result = filter_data(data, eva=\"8000105\", mode=\"%\", delay_threshold=5.59)\n",
    "if result is not None:\n",
    "    print(result)\n"
   ]
  },
  {
   "cell_type": "markdown",
   "metadata": {},
   "source": [
    "# Kapitel: Ausführungsfunktionen"
   ]
  },
  {
   "cell_type": "code",
   "execution_count": 10,
   "metadata": {},
   "outputs": [],
   "source": [
    "def print_avarage_delay_min(file_path, title='', x_axis_label='', y_axis_label='', \n",
    "                            bar_color='skyblue', y_limit_factor=1.1, text_offset_factor=0.03, \n",
    "                            show_values=True, exclude_zeros=True):\n",
    "    statistics = calculate_average_min_delay(file_path)\n",
    "    \n",
    "    # Spaltennamen umbenennen, um sie in plot_bar_chart zu verwenden\n",
    "    statistics.columns = ['X', 'Y']\n",
    "    \n",
    "    plot_bar_chart(statistics, title=title, \n",
    "                   x_axis_label=x_axis_label, y_axis_label=y_axis_label, \n",
    "                   bar_color=bar_color, y_limit_factor=y_limit_factor, text_offset_factor=text_offset_factor, \n",
    "                   show_values=show_values, exclude_zeros=exclude_zeros)"
   ]
  },
  {
   "cell_type": "code",
   "execution_count": 11,
   "metadata": {},
   "outputs": [],
   "source": [
    "def print_avarage_delay_percentage(file_path, title='', x_axis_label='', y_axis_label='', \n",
    "                            bar_color='skyblue', y_limit_factor=1.1, text_offset_factor=0.03, \n",
    "                            show_values=True, exclude_zeros=True):\n",
    "    statistics = calculate_average_percentage_delay(file_path)\n",
    "\n",
    "    # Spaltennamen umbenennen, um sie in plot_bar_chart zu verwenden\n",
    "    statistics.columns = ['X', 'Y']\n",
    "\n",
    "    plot_bar_chart(statistics, title=title, \n",
    "                   x_axis_label=x_axis_label, y_axis_label=y_axis_label, \n",
    "                   bar_color=bar_color, y_limit_factor=y_limit_factor, text_offset_factor=text_offset_factor, \n",
    "                   show_values=show_values, exclude_zeros=exclude_zeros)"
   ]
  },
  {
   "cell_type": "code",
   "execution_count": 12,
   "metadata": {},
   "outputs": [],
   "source": [
    "def print_delay_categorie_percentage(file_path, train_type, title='', x_axis_label='', y_axis_label='', \n",
    "                            bar_color='skyblue', y_limit_factor=1.1, text_offset_factor=0.03, \n",
    "                            show_values=True, exclude_zeros=True):\n",
    "    statistics = delay_statistics_by_train_type(file_path, train_type)\n",
    "\n",
    "    if statistics:\n",
    "        # Spaltennamen umbenennen, um sie in plot_bar_chart zu verwenden\n",
    "        statistics = pd.DataFrame(list(statistics.items()), columns=['X', 'Y'])\n",
    "\n",
    "        plot_bar_chart(statistics, title=title, \n",
    "                   x_axis_label=x_axis_label, y_axis_label=y_axis_label, \n",
    "                   bar_color=bar_color, y_limit_factor=y_limit_factor, text_offset_factor=text_offset_factor, \n",
    "                   show_values=show_values, exclude_zeros=exclude_zeros) "
   ]
  },
  {
   "cell_type": "markdown",
   "metadata": {},
   "source": [
    "# Kapitel: Visualisierung"
   ]
  },
  {
   "cell_type": "code",
   "execution_count": 13,
   "metadata": {},
   "outputs": [
    {
     "data": {
      "image/png": "[encoded data removed]",
      "text/plain": [
       "<Figure size 800x600 with 1 Axes>"
      ]
     },
     "metadata": {},
     "output_type": "display_data"
    }
   ],
   "source": [
    "file_path = \"out/Result_41.csv\"\n",
    "\n",
    "print_avarage_delay_min(file_path, title=\"Titel\", x_axis_label=\"Zugart\", y_axis_label=\"Verspätung (Min)\")"
   ]
  },
  {
   "cell_type": "code",
   "execution_count": 14,
   "metadata": {},
   "outputs": [
    {
     "data": {
      "image/png": "[encoded data removed]",
      "text/plain": [
       "<Figure size 800x600 with 1 Axes>"
      ]
     },
     "metadata": {},
     "output_type": "display_data"
    }
   ],
   "source": [
    "file_path = \"out/Result_41.csv\"\n",
    "\n",
    "print_avarage_delay_percentage(file_path, title='Verspätung je Zugart in Prozent (%)', x_axis_label='Zugart', y_axis_label='Verspätet (%)')"
   ]
  },
  {
   "cell_type": "code",
   "execution_count": 15,
   "metadata": {},
   "outputs": [
    {
     "data": {
      "image/png": "[encoded data removed]",
      "text/plain": [
       "<Figure size 800x600 with 1 Axes>"
      ]
     },
     "metadata": {},
     "output_type": "display_data"
    }
   ],
   "source": [
    "file_path = \"out/Result_41.csv\"\n",
    "train_type_shortcut = \"ICE\"\n",
    "\n",
    "title = train_type_shortcut\n",
    "if train_type_shortcut == \"S\":\n",
    "    title = \"S-Bahn\"\n",
    "\n",
    "print_delay_categorie_percentage(file_path, train_type_shortcut, \n",
    "                                 title=f\"Verspätungsstatistik für {title}\", \n",
    "                                 x_axis_label=\"Verspätungskategorie\", \n",
    "                                 y_axis_label=\"Anteil verspäteter Züge (%)\",\n",
    "                                 exclude_zeros=False)"
   ]
  }
 ],
 "metadata": {
  "kernelspec": {
   "display_name": "Python 3",
   "language": "python",
   "name": "python3"
  },
  "language_info": {
   "codemirror_mode": {
    "name": "ipython",
    "version": 3
   },
   "file_extension": ".py",
   "mimetype": "text/x-python",
   "name": "python",
   "nbconvert_exporter": "python",
   "pygments_lexer": "ipython3",
   "version": "3.13.0"
  }
 },
 "nbformat": 4,
 "nbformat_minor": 2
}
